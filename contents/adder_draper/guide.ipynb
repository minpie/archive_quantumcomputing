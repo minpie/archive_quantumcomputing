{
 "cells": [
  {
   "cell_type": "markdown",
   "id": "26eddaec",
   "metadata": {},
   "source": [
    "# guide\n",
    "\n",
    "* * *\n",
    "본 페이지는 draper의 양자 덧셈기의 구현물 및 그 설명을 서술하는 페이지 입니다.\n",
    "\n",
    "* * *\n",
    "\n",
    "ProjectQ Framework를 사용하여 작성된 코드는 projectq/quantumAdder_v1_projectq.py 파일을,\n",
    "\n",
    "IBM Qiskit Framework를 사용하여 작성된 코드는 qiskit/quantumAdder_v1_qiskit.py 파일을 참조해주십시오.\n",
    "\n",
    "* * *"
   ]
  }
 ],
 "metadata": {
  "language_info": {
   "name": "python"
  }
 },
 "nbformat": 4,
 "nbformat_minor": 5
}
