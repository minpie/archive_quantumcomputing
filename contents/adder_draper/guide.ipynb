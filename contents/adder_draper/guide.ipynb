{
 "cells": [
  {
   "cell_type": "markdown",
   "id": "4ef801a2",
   "metadata": {},
   "source": [
    "# guide\n",
    "\n",
    "* * *\n",
    "\n",
    "본 페이지는 Draper의 양자 덧셈기의 구현물 및 그 설명을 서술하는 페이지 입니다.\n",
    "\n",
    "* * *\n",
    "\n",
    "ProjectQ Framework를 사용하여 작성된 코드는 ```projectq/draperadder_v1_projectq.py``` 파일을,\n",
    "\n",
    "IBM Qiskit Framework를 사용하여 작성된 코드는 ```qiskit/draperadder_v1_qiskit.py``` 파일을 참조해주십시오.\n",
    "\n",
    "* * *\n",
    "\n",
    "본 콘텐츠 디렉터리에서 제공하는 코드는 양자컴퓨팅 환경에서 동작하는 덧셈기(Adder)인\n",
    "Draper의 덧셈기[[1]](#1)를 구현한 것으로,\n",
    "Carry-lookahead adder 및 depth-optimized 구현으로 분류될 수 있습니다.\n",
    "\n",
    "* * *\n",
    "## Reference\n",
    "\n",
    "<a id=\"1\">[1]</a>\n",
    "T. G. Draper, S. A. Kutin, E. M. Rains, and K. M. Svore, “A logarithmic-depth quantum carry-lookahead adder,” 2004.\n",
    "Can be accessed with <a href=\"https://arxiv.org/abs/quant-ph/0406142\" target=\"_blank\">this</a>.\n",
    "* * *"
   ]
  }
 ],
 "metadata": {
  "language_info": {
   "name": "python"
  }
 },
 "nbformat": 4,
 "nbformat_minor": 5
}
