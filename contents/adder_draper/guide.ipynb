{
 "cells": [
  {
   "cell_type": "markdown",
   "id": "4ef801a2",
   "metadata": {},
   "source": [
    "# guide\n",
    "* * *\n",
    "This page is for describe implementation of Draper's quantum adder and its descriptions.\n",
    "\n",
    "본 페이지는 Draper의 양자 덧셈기의 구현물 및 그 설명을 서술하는 페이지 입니다.\n",
    "* * *\n",
    "For view ```ProjectQ Framework```used code, See ```projectq/draperadder_v1_projectq.py```.\n",
    "\n",
    "For view ```IBM Qiskit Framework```used code, See ```qiskit/draperadder_v1_qiskit.py```.\n",
    "\n",
    "```ProjectQ Framework```를 사용하여 작성된 코드는 ```projectq/draperadder_v1_projectq.py``` 파일을,\n",
    "\n",
    "```IBM Qiskit Framework```를 사용하여 작성된 코드는 ```qiskit/draperadder_v1_qiskit.py``` 파일을 참조해주십시오.\n",
    "* * *\n",
    "The code in this content directory implements Draper's Adder[[1]](#1),\n",
    "which is an adder works on quantum computing environment,\n",
    "can be categorized to ```carry-lookahead adder``` and ```depth-optimized``` implementation.\n",
    "\n",
    "본 콘텐츠 디렉터리에서 제공하는 코드는 양자컴퓨팅 환경에서 동작하는 덧셈기(Adder)인\n",
    "Draper의 덧셈기[[1]](#1)를 구현한 것으로,\n",
    "```Carry-lookahead adder``` 및 ```depth-optimized``` 구현으로 분류될 수 있습니다.\n",
    "* * *\n",
    "## Reference\n",
    "\n",
    "<a id=\"1\">[1]</a>\n",
    "T. G. Draper, S. A. Kutin, E. M. Rains, and K. M. Svore, “A logarithmic-depth quantum carry-lookahead adder,” 2004.\n",
    "Can be accessed with <a href=\"https://arxiv.org/abs/quant-ph/0406142\" target=\"_blank\">this</a>.\n",
    "* * *"
   ]
  }
 ],
 "metadata": {
  "language_info": {
   "name": "python"
  }
 },
 "nbformat": 4,
 "nbformat_minor": 5
}
