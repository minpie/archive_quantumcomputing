{
 "cells": [
  {
   "cell_type": "markdown",
   "id": "27d023b0",
   "metadata": {},
   "source": [
    "# guide\n",
    "\n",
    "* * *\n",
    "본 페이지는 규격화된 향후 내용 작성을 위한 템플릿 페이지 입니다.\n",
    "즉, 편집자의 편의를 위해 작성된 내용으로서 무시하셔도 좋은 내용입니다.\n",
    "\n",
    "* * *\n",
    "예시 내용입니다. 예시 내용입니다. 예시 내용입니다. 예시 내용입니다.\n",
    "\n",
    "이 예시내용의 참고문헌은 이 문장 끝에 표시됩니다.[[1]](#1)\n",
    "\n",
    "또다른 참고문헌 예시[[2]](#2)는 말 그대로 참고문헌 예시이다.\n",
    "\n",
    "경로는 이렇게 ```dir/to/file/or/whatever.nope``` 표시할겁니다.\n",
    "\n",
    "예시 내용입니다. 예시 내용입니다. 예시 내용입니다. 예시 내용입니다.\n",
    "\n",
    "\n",
    "\n",
    "* * *\n",
    "## Reference\n",
    "\n",
    "<a id=\"1\">[1]</a>\n",
    "Unknown, M. (0000).\n",
    "This is example of reference.\n",
    "Nowhere of the Null, 1(1), 101-123.\n",
    "\n",
    "<a id=\"2\">[2]</a>\n",
    "Godknow, U. (0000).\n",
    "This is example of reference.\n",
    "Nowhere of the Void, 2(1), 1101-1234.\n",
    "* * *"
   ]
  }
 ],
 "metadata": {
  "language_info": {
   "name": "python"
  }
 },
 "nbformat": 4,
 "nbformat_minor": 5
}
