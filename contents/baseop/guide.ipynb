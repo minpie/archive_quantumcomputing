{
 "cells": [
  {
   "cell_type": "markdown",
   "id": "4ef801a2",
   "metadata": {},
   "source": [
    "# guide\n",
    "* * *\n",
    "This page is for describe implementations of fundamental operations and its descriptions.\n",
    "\n",
    "본 페이지는 범용적으로 사용할 수 있는 기본적인 연산의 구현물 및 그 설명을 서술하는 페이지 입니다.\n",
    "* * *\n",
    "For view ```ProjectQ Framework```used code, See ```projectq/baseop_v1_projectq.py```.\n",
    "\n",
    "For view ```IBM Qiskit Framework```used code, See ```qiskit/baseop_v1_projectq.py```.\n",
    "\n",
    "```ProjectQ Framework```를 사용하여 작성된 코드는 ```projectq/baseop_v1_projectq.py``` 파일을,\n",
    "\n",
    "```IBM Qiskit Framework```를 사용하여 작성된 코드는 ```qiskit/baseop_v1_qiskit.py``` 파일을 참조해주십시오.\n",
    "* * *\n",
    "\n",
    "\n",
    "* * *\n",
    "## Reference\n",
    "\n",
    "No references\n",
    "\n",
    "참고문헌 없음\n",
    "* * *"
   ]
  }
 ],
 "metadata": {
  "language_info": {
   "name": "python"
  }
 },
 "nbformat": 4,
 "nbformat_minor": 5
}
