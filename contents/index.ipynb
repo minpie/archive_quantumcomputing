{
 "cells": [
  {
   "cell_type": "markdown",
   "id": "3aeac25b",
   "metadata": {},
   "source": []
  }
 ],
 "metadata": {
  "language_info": {
   "name": "python"
  }
 },
 "nbformat": 4,
 "nbformat_minor": 5
}
