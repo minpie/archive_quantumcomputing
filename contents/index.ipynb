{
 "cells": [
  {
   "cell_type": "markdown",
   "id": "3aeac25b",
   "metadata": {},
   "source": [
    "# index\n",
    "\n",
    "* * *\n",
    "본 페이지는 전체 콘텐츠의 경로와 간단한 설명을 적은 목차입니다.\n",
    "\n",
    "아래의 콘텐츠 항목들은 모두 /contents/ 에 위치합니다.\n",
    "각 콘텐츠 디렉터리의 구조는 각 콘텐츠의 최상위 디렉터리의 guide.ipynb 를 참고하세요.\n",
    "\n",
    "+ adder_draper\n",
    "    + Draper의 양자 덧셈기\n",
    "+ base\n",
    "    + 기본 정보\n",
    "\n",
    "* * *"
   ]
  }
 ],
 "metadata": {
  "language_info": {
   "name": "python"
  }
 },
 "nbformat": 4,
 "nbformat_minor": 5
}
